{
 "metadata": {
  "language_info": {
   "codemirror_mode": {
    "name": "ipython",
    "version": 3
   },
   "file_extension": ".py",
   "mimetype": "text/x-python",
   "name": "python",
   "nbconvert_exporter": "python",
   "pygments_lexer": "ipython3",
   "version": "3.7.1-final"
  },
  "orig_nbformat": 2,
  "kernelspec": {
   "name": "python3",
   "display_name": "Python 3.7.1 64-bit (conda)",
   "metadata": {
    "interpreter": {
     "hash": "b3ba2566441a7c06988d0923437866b63cedc61552a5af99d1f4fb67d367b25f"
    }
   }
  }
 },
 "nbformat": 4,
 "nbformat_minor": 2,
 "cells": [
  {
   "source": [
    "[1780. Check if Number is a Sum of Powers of Three](https://leetcode.com/problems/check-if-number-is-a-sum-of-powers-of-three/)\n",
    "- distinct power of three\n",
    "- [Larry solution](https://www.youtube.com/watch?v=DXmO373ydbI)\n",
    "- [Ternery conversion tool](https://www.mathsisfun.com/numbers/convert-base.php)\n",
    "\n"
   ],
   "cell_type": "markdown",
   "metadata": {}
  },
  {
   "cell_type": "code",
   "execution_count": 1,
   "metadata": {},
   "outputs": [],
   "source": [
    "class Solution:\n",
    "    def checkPowersOfThree(self, n: int) -> bool:\n",
    "        while n > 1:\n",
    "            n, r = divmod(n, 3)\n",
    "            print(n,r)\n",
    "            if r == 2: return False\n",
    "        return True"
   ]
  },
  {
   "cell_type": "code",
   "execution_count": 5,
   "metadata": {},
   "outputs": [
    {
     "output_type": "stream",
     "name": "stdout",
     "text": [
      "start as 21\n7 0\n2 1\n0 2\nend\nstart as 13\n4 1\n1 1\nend\nstart as 12\n4 0\n1 1\nend\nstart as 10\n3 1\n1 0\nend\n"
     ]
    }
   ],
   "source": [
    "sol = Solution()\n",
    "n_list = [21, 13, 12, 10]\n",
    "\n",
    "for n in n_list:\n",
    "    print(f\"start as {n}\")\n",
    "    sol.checkPowersOfThree(n)\n",
    "    print(\"end\")"
   ]
  },
  {
   "cell_type": "code",
   "execution_count": null,
   "metadata": {},
   "outputs": [],
   "source": []
  }
 ]
}